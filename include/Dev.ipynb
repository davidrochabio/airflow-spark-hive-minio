{
 "cells": [
  {
   "cell_type": "code",
   "execution_count": null,
   "id": "f212f40b-852a-40cf-8dbe-06d4490f9c01",
   "metadata": {},
   "outputs": [],
   "source": [
    "from pyspark.sql import SparkSession\n",
    "from pyspark.sql import functions as F\n",
    "\n",
    "minio_access_key = \"minioadmin\"\n",
    "minio_secret_key = \"minioadmin\"\n",
    "minio_endpoint = \"http://minio:9000\"\n",
    "bronze = \"s3a://data/bronze/\"\n",
    "bronze_landing = \"s3a://data/bronze/landing/\"\n",
    "bronze_conformed_olist = \"s3a://data/bronze/conformed/olist/\"\n",
    "bronze_qa_olist = \"s3a://data/bronze/qa/olist/\"\n",
    "silver = \"s3a://data/silver/\"\n",
    "packages = 'io.delta:delta-spark_2.12:3.3.0,io.delta:delta-storage:3.3.0,org.antlr:antlr4-runtime:4.9.3,org.apache.hadoop:hadoop-aws:3.3.4,com.amazonaws:aws-java-sdk-bundle:1.12.780'\n",
    "\n",
    "spark = SparkSession \\\n",
    "        .builder \\\n",
    "        .appName('devNote') \\\n",
    "        .master('spark://spark-master:7077') \\\n",
    "        .config(\"spark.jars.packages\", packages) \\\n",
    "        .config('spark.sql.extensions', 'io.delta.sql.DeltaSparkSessionExtension') \\\n",
    "        .config('spark.sql.catalog.spark_catalog', 'org.apache.spark.sql.delta.catalog.DeltaCatalog') \\\n",
    "        .config(\"spark.hadoop.fs.s3a.access.key\", minio_access_key) \\\n",
    "        .config(\"spark.hadoop.fs.s3a.secret.key\", minio_secret_key) \\\n",
    "        .config(\"spark.hadoop.fs.s3a.endpoint\", minio_endpoint) \\\n",
    "        .config(\"spark.hadoop.fs.s3a.path.style.access\", \"true\") \\\n",
    "        .config(\"spark.hadoop.fs.s3a.impl\", \"org.apache.hadoop.fs.s3a.S3AFileSystem\") \\\n",
    "        .config(\"spark.hadoop.fs.s3a.connection.ssl.enabled\", \"false\") \\\n",
    "        .config(\"spark.hadoop.fs.s3a.aws.credentials.provider\", \"org.apache.hadoop.fs.s3a.SimpleAWSCredentialsProvider\") \\\n",
    "        .config(\"spark.delta.logStore.class\", \"org.apache.spark.sql.delta.storage.S3SingleDriverLogStore\") \\\n",
    "        .config(\"spark.sql.catalogImplementation\", \"hive\") \\\n",
    "        .config(\"spark.hadoop.javax.jdo.option.ConnectionURL\", \"jdbc:postgresql://metastore-pg:5432/metastore_db\") \\\n",
    "        .config(\"spark.hadoop.javax.jdo.option.ConnectionDriverName\", \"org.postgresql.Driver\") \\\n",
    "        .config(\"spark.hadoop.javax.jdo.option.ConnectionUserName\", \"hive\") \\\n",
    "        .config(\"spark.hadoop.javax.jdo.option.ConnectionPassword\", \"password\") \\\n",
    "        .config(\"spark.hadoop.hive.metastore.uris\", \"thrift://metastore:9083\") \\\n",
    "        .enableHiveSupport() \\\n",
    "        .getOrCreate()"
   ]
  },
  {
   "cell_type": "code",
   "execution_count": null,
   "id": "7739dabe-6471-49b9-9c0b-2cb742f1ecfc",
   "metadata": {},
   "outputs": [],
   "source": []
  },
  {
   "cell_type": "code",
   "execution_count": 7,
   "id": "6b2f99fa-45c4-4d37-bf95-3f94e8b911b9",
   "metadata": {},
   "outputs": [],
   "source": [
    "spark.stop()"
   ]
  }
 ],
 "metadata": {
  "kernelspec": {
   "display_name": "Python 3 (ipykernel)",
   "language": "python",
   "name": "python3"
  },
  "language_info": {
   "codemirror_mode": {
    "name": "ipython",
    "version": 3
   },
   "file_extension": ".py",
   "mimetype": "text/x-python",
   "name": "python",
   "nbconvert_exporter": "python",
   "pygments_lexer": "ipython3",
   "version": "3.12.8"
  }
 },
 "nbformat": 4,
 "nbformat_minor": 5
}
